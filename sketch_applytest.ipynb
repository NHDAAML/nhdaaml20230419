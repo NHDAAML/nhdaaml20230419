{
 "cells": [
  {
   "cell_type": "code",
   "execution_count": 1,
   "id": "69f3a07d-8532-4126-9270-6b6b51383e1c",
   "metadata": {
    "tags": []
   },
   "outputs": [],
   "source": [
    "import os\n",
    "from pathlib import Path\n",
    "\n",
    "import matplotlib.pyplot as plt\n",
    "import pandas as pd\n",
    "import sketch\n",
    "\n",
    "%matplotlib inline"
   ]
  },
  {
   "cell_type": "code",
   "execution_count": 3,
   "id": "2797d3cd-2c5f-47f1-9b2c-3ef9440daca9",
   "metadata": {
    "tags": []
   },
   "outputs": [],
   "source": [
    "# Source: https://www.kaggle.com/datasets/prasad22/ca-independent-medical-review\n",
    "\n",
    "datapath = Path('./data')\n",
    "datafilename = 'Independent_Medical_Review__IMR__Determinations__Trend.csv'"
   ]
  },
  {
   "cell_type": "code",
   "execution_count": 4,
   "id": "c2fc164d-b7bd-425b-b035-210a9c3c94f6",
   "metadata": {
    "tags": []
   },
   "outputs": [],
   "source": [
    "df = pd.read_csv(datapath / datafilename)"
   ]
  },
  {
   "cell_type": "code",
   "execution_count": 5,
   "id": "ca793a6a-dfa5-49f6-bafc-4dc8c259c5fb",
   "metadata": {
    "tags": []
   },
   "outputs": [
    {
     "data": {
      "text/html": [
       "<div>\n",
       "<style scoped>\n",
       "    .dataframe tbody tr th:only-of-type {\n",
       "        vertical-align: middle;\n",
       "    }\n",
       "\n",
       "    .dataframe tbody tr th {\n",
       "        vertical-align: top;\n",
       "    }\n",
       "\n",
       "    .dataframe thead th {\n",
       "        text-align: right;\n",
       "    }\n",
       "</style>\n",
       "<table border=\"1\" class=\"dataframe\">\n",
       "  <thead>\n",
       "    <tr style=\"text-align: right;\">\n",
       "      <th></th>\n",
       "      <th>Reference ID</th>\n",
       "      <th>Report Year</th>\n",
       "      <th>Diagnosis Category</th>\n",
       "      <th>Diagnosis Sub Category</th>\n",
       "      <th>Treatment Category</th>\n",
       "      <th>Treatment Sub Category</th>\n",
       "      <th>Determination</th>\n",
       "      <th>Type</th>\n",
       "      <th>Age Range</th>\n",
       "      <th>Patient Gender</th>\n",
       "      <th>Findings</th>\n",
       "    </tr>\n",
       "  </thead>\n",
       "  <tbody>\n",
       "    <tr>\n",
       "      <th>0</th>\n",
       "      <td>MN16-22639</td>\n",
       "      <td>2016</td>\n",
       "      <td>Infectious</td>\n",
       "      <td>Hepatitis</td>\n",
       "      <td>Pharmacy/Prescription Drugs</td>\n",
       "      <td>Anti-virals</td>\n",
       "      <td>Overturned Decision of Health Plan</td>\n",
       "      <td>Medical Necessity</td>\n",
       "      <td>41-50</td>\n",
       "      <td>Male</td>\n",
       "      <td>Nature of Statutory Criteria/Case Summary: An ...</td>\n",
       "    </tr>\n",
       "    <tr>\n",
       "      <th>1</th>\n",
       "      <td>MN16-22638</td>\n",
       "      <td>2016</td>\n",
       "      <td>Mental</td>\n",
       "      <td>Eating Disorder</td>\n",
       "      <td>Mental Health Treatment</td>\n",
       "      <td>Residential Treatment Center - Admission</td>\n",
       "      <td>Upheld Decision of Health Plan</td>\n",
       "      <td>Medical Necessity</td>\n",
       "      <td>21-30</td>\n",
       "      <td>Female</td>\n",
       "      <td>Nature of Statutory Criteria/Case Summary:  An...</td>\n",
       "    </tr>\n",
       "    <tr>\n",
       "      <th>2</th>\n",
       "      <td>MN16-22637</td>\n",
       "      <td>2016</td>\n",
       "      <td>Autism Spectrum</td>\n",
       "      <td>Autism-PDD-NOS</td>\n",
       "      <td>Autism Related Treatment</td>\n",
       "      <td>Speech Therapy</td>\n",
       "      <td>Upheld Decision of Health Plan</td>\n",
       "      <td>Medical Necessity</td>\n",
       "      <td>0-10</td>\n",
       "      <td>Female</td>\n",
       "      <td>Nature of Statutory Criteria/Case Summary:  Th...</td>\n",
       "    </tr>\n",
       "    <tr>\n",
       "      <th>3</th>\n",
       "      <td>EI16-22636</td>\n",
       "      <td>2016</td>\n",
       "      <td>Prevention/Good Health</td>\n",
       "      <td>NaN</td>\n",
       "      <td>Diagnostic Imaging, Screening and Testing</td>\n",
       "      <td>Mammography</td>\n",
       "      <td>Overturned Decision of Health Plan</td>\n",
       "      <td>Experimental/Investigational</td>\n",
       "      <td>65+</td>\n",
       "      <td>Female</td>\n",
       "      <td>Nature of Statutory Criteria/Case Summary: An ...</td>\n",
       "    </tr>\n",
       "    <tr>\n",
       "      <th>4</th>\n",
       "      <td>EI06-5319</td>\n",
       "      <td>2006</td>\n",
       "      <td>Cardiac/Circulatory</td>\n",
       "      <td>NaN</td>\n",
       "      <td>Cardio Vascular</td>\n",
       "      <td>NaN</td>\n",
       "      <td>Upheld Decision of Health Plan</td>\n",
       "      <td>Experimental/Investigational</td>\n",
       "      <td>51-64</td>\n",
       "      <td>Male</td>\n",
       "      <td>Physician 1: The patient is a 62-year-old male...</td>\n",
       "    </tr>\n",
       "  </tbody>\n",
       "</table>\n",
       "</div>"
      ],
      "text/plain": [
       "  Reference ID  Report Year      Diagnosis Category Diagnosis Sub Category   \n",
       "0   MN16-22639         2016              Infectious              Hepatitis  \\\n",
       "1   MN16-22638         2016                  Mental        Eating Disorder   \n",
       "2   MN16-22637         2016         Autism Spectrum         Autism-PDD-NOS   \n",
       "3   EI16-22636         2016  Prevention/Good Health                    NaN   \n",
       "4    EI06-5319         2006     Cardiac/Circulatory                    NaN   \n",
       "\n",
       "                          Treatment Category   \n",
       "0                Pharmacy/Prescription Drugs  \\\n",
       "1                    Mental Health Treatment   \n",
       "2                   Autism Related Treatment   \n",
       "3  Diagnostic Imaging, Screening and Testing   \n",
       "4                            Cardio Vascular   \n",
       "\n",
       "                     Treatment Sub Category   \n",
       "0                               Anti-virals  \\\n",
       "1  Residential Treatment Center - Admission   \n",
       "2                            Speech Therapy   \n",
       "3                               Mammography   \n",
       "4                                       NaN   \n",
       "\n",
       "                        Determination                          Type Age Range   \n",
       "0  Overturned Decision of Health Plan             Medical Necessity     41-50  \\\n",
       "1      Upheld Decision of Health Plan             Medical Necessity     21-30   \n",
       "2      Upheld Decision of Health Plan             Medical Necessity      0-10   \n",
       "3  Overturned Decision of Health Plan  Experimental/Investigational       65+   \n",
       "4      Upheld Decision of Health Plan  Experimental/Investigational     51-64   \n",
       "\n",
       "  Patient Gender                                           Findings  \n",
       "0           Male  Nature of Statutory Criteria/Case Summary: An ...  \n",
       "1         Female  Nature of Statutory Criteria/Case Summary:  An...  \n",
       "2         Female  Nature of Statutory Criteria/Case Summary:  Th...  \n",
       "3         Female  Nature of Statutory Criteria/Case Summary: An ...  \n",
       "4           Male  Physician 1: The patient is a 62-year-old male...  "
      ]
     },
     "execution_count": 5,
     "metadata": {},
     "output_type": "execute_result"
    }
   ],
   "source": [
    "df.head()"
   ]
  },
  {
   "cell_type": "code",
   "execution_count": 6,
   "id": "178cff17-1a32-4f22-bcf0-e07be044de16",
   "metadata": {
    "tags": []
   },
   "outputs": [
    {
     "name": "stdout",
     "output_type": "stream",
     "text": [
      "<class 'pandas.core.frame.DataFrame'>\n",
      "RangeIndex: 19245 entries, 0 to 19244\n",
      "Data columns (total 11 columns):\n",
      " #   Column                  Non-Null Count  Dtype \n",
      "---  ------                  --------------  ----- \n",
      " 0   Reference ID            19245 non-null  object\n",
      " 1   Report Year             19245 non-null  int64 \n",
      " 2   Diagnosis Category      19186 non-null  object\n",
      " 3   Diagnosis Sub Category  17341 non-null  object\n",
      " 4   Treatment Category      18795 non-null  object\n",
      " 5   Treatment Sub Category  17977 non-null  object\n",
      " 6   Determination           19245 non-null  object\n",
      " 7   Type                    19245 non-null  object\n",
      " 8   Age Range               18035 non-null  object\n",
      " 9   Patient Gender          18035 non-null  object\n",
      " 10  Findings                19225 non-null  object\n",
      "dtypes: int64(1), object(10)\n",
      "memory usage: 1.6+ MB\n"
     ]
    }
   ],
   "source": [
    "df.info()"
   ]
  },
  {
   "cell_type": "code",
   "execution_count": 7,
   "id": "542c24b3-3173-47f8-af0e-7f73005f5b0b",
   "metadata": {
    "tags": []
   },
   "outputs": [
    {
     "data": {
      "text/html": [
       "\n",
       "Yes, there is a difference in Determination by Patient Gender. The data shows that the majority of determinations are \"Upheld Decision of Health Plan\" for both male and female patients, but there is a higher percentage of \"Overturned Decision of Health Plan\" determinations for female patients than male patients."
      ],
      "text/plain": [
       "<IPython.core.display.HTML object>"
      ]
     },
     "metadata": {},
     "output_type": "display_data"
    }
   ],
   "source": [
    "df.sketch.ask('Is there a difference in Determination by Patient Gender')"
   ]
  },
  {
   "cell_type": "code",
   "execution_count": 8,
   "id": "fe5862c9-4ff8-47ec-863d-45b52ec9aea0",
   "metadata": {
    "tags": []
   },
   "outputs": [
    {
     "data": {
      "text/html": [
       "<div style=\"display:flex;flex-direction:row;justify-content:space-between;\">\n",
       "                <pre style=\"width: 100%; white-space: pre-wrap;\" id=\"4091be55-90ba-4566-8888-bdf55446ce2e\"># Plot Determination by age\n",
       "import matplotlib.pyplot as plt\n",
       "\n",
       "# Create a bar chart of Determination by Age Range\n",
       "df.groupby('Age Range')['Determination'].value_counts().unstack().plot(kind='bar', figsize=(10,6))\n",
       "\n",
       "# Add labels and title\n",
       "plt.xlabel('Age Range')\n",
       "plt.ylabel('Number of Determinations')\n",
       "plt.title('Determination by Age Range')\n",
       "\n",
       "# Show the plot\n",
       "plt.show()\n",
       "</pre>\n",
       "                <button style=\"height: fit-content;\" onclick=\"navigator.clipboard.writeText(JSON.parse(atob(`IiMgUGxvdCBEZXRlcm1pbmF0aW9uIGJ5IGFnZVxuaW1wb3J0IG1hdHBsb3RsaWIucHlwbG90IGFzIHBsdFxuXG4jIENyZWF0ZSBhIGJhciBjaGFydCBvZiBEZXRlcm1pbmF0aW9uIGJ5IEFnZSBSYW5nZVxuZGYuZ3JvdXBieSgnQWdlIFJhbmdlJylbJ0RldGVybWluYXRpb24nXS52YWx1ZV9jb3VudHMoKS51bnN0YWNrKCkucGxvdChraW5kPSdiYXInLCBmaWdzaXplPSgxMCw2KSlcblxuIyBBZGQgbGFiZWxzIGFuZCB0aXRsZVxucGx0LnhsYWJlbCgnQWdlIFJhbmdlJylcbnBsdC55bGFiZWwoJ051bWJlciBvZiBEZXRlcm1pbmF0aW9ucycpXG5wbHQudGl0bGUoJ0RldGVybWluYXRpb24gYnkgQWdlIFJhbmdlJylcblxuIyBTaG93IHRoZSBwbG90XG5wbHQuc2hvdygpXG4i`)))\">Copy</button>\n",
       "                </div>"
      ],
      "text/plain": [
       "<IPython.core.display.HTML object>"
      ]
     },
     "metadata": {},
     "output_type": "display_data"
    }
   ],
   "source": [
    "df.sketch.howto('Plot Determination by age')"
   ]
  },
  {
   "cell_type": "code",
   "execution_count": 9,
   "id": "68b41a4c-60d3-4690-b176-c20f6e1c27ee",
   "metadata": {
    "tags": []
   },
   "outputs": [
    {
     "data": {
      "image/png": "[encoded data removed]",
      "text/plain": [
       "<Figure size 1000x600 with 1 Axes>"
      ]
     },
     "metadata": {},
     "output_type": "display_data"
    }
   ],
   "source": [
    "# Plot Determination by age\n",
    "import matplotlib.pyplot as plt\n",
    "\n",
    "# Create a bar chart of Determination by Age Range\n",
    "df.groupby('Age Range')['Determination'].value_counts().unstack().plot(kind='bar', figsize=(10,6))\n",
    "plt.title('Determination by Age Range')\n",
    "plt.xlabel('Age Range')\n",
    "plt.ylabel('Count')\n",
    "plt.show()"
   ]
  },
  {
   "cell_type": "code",
   "execution_count": 10,
   "id": "793e4aad-4d26-4196-bbf1-cc3415bf3271",
   "metadata": {},
   "outputs": [
    {
     "data": {
      "text/plain": [
       "'Nature of Statutory Criteria/Case Summary:  An enrollee has requested advanced lipoprotein testing for evaluation of his medical condition.  Findings:  Three physician reviewers found that advanced lipoprotein testing was not likely to be more beneficial for evaluation of the patient’s medical condition than any available standard therapy. The primary prevention guidelines for the management of cardiac risk and dyslipidemia currently do not recommend routine performance of specialized tests in the context of assessing coronary risk including lipoprotein-associated phospholipase A2 (Lp-PLA2), sub-classifications of low-density lipoprotein (LDL), high-density lipoprotein (HDL) subclasses, lipoprotein(a), C-reactive protein (CRP), high sensitivity CRP, insulin, fibrinogen, genetic testing and homocysteine (Greenland, et al; Stone, et al). Treatment change or addition based on the results of screening with these specialized tests has not been shown to improve cardiac outcome incremental to that achievable by treatment based on standard risk factor profiling and basic lipid analysis. For the reasons provided, the services at issue were not likely to be more beneficial for evaluation of the patient’s medical condition than any available standard therapy. Final Result: Three reviewers determined that the services at issue were not likely to be more beneficial for evaluation of the patient’s medical condition than any available standard therapy. Therefore, the Health Plan’s denial should be upheld.  Credentials/Qualifications: All three reviewers are board certified in internal medicine with sub-specialty certification in cardiovascular disease and are actively practicing. All three reviewers are experts in the treatment of the enrollee’s medical condition and knowledgeable about the proposed treatment through recent or current actual clinical experience treating those with the same or a similar medical condition.'"
      ]
     },
     "execution_count": 10,
     "metadata": {},
     "output_type": "execute_result"
    }
   ],
   "source": [
    "df.Findings.iloc[5]"
   ]
  },
  {
   "cell_type": "code",
   "execution_count": 11,
   "id": "e8d9edc4-4236-4031-afd0-f4eca78f4fba",
   "metadata": {
    "tags": []
   },
   "outputs": [],
   "source": [
    "sdf = df.sample(10)"
   ]
  },
  {
   "cell_type": "code",
   "execution_count": 13,
   "id": "f7eba0bf-e8d3-410e-9f72-536467660138",
   "metadata": {
    "tags": []
   },
   "outputs": [],
   "source": [
    "sdf.loc[:, 'keywords_findings'] = sdf.sketch.apply('Comma separated list of top 5 keywords from [{{ Findings }}]')"
   ]
  },
  {
   "cell_type": "code",
   "execution_count": 16,
   "id": "50bfe3ab-d2cb-4920-b2c6-a37aadc30f6d",
   "metadata": {
    "tags": []
   },
   "outputs": [
    {
     "data": {
      "text/plain": [
       "'A 61-year-old male enrollee has requested lumbar spine fusion for treatment of his chronic low back pain and radiculopathy of the left lower extremity.  Findings:  The physician reviewer found that there is no evidence of instability, angulation, significant scoliosis, spondylolysis, spondylolisthesis, trauma, or infection in this patient’s records, all of which would be considered criteria for spinal fusion. Thus, the proposed two level spinal fusion is not considered medically necessary and is not indicated in the treatment of this patient’s condition.'"
      ]
     },
     "execution_count": 16,
     "metadata": {},
     "output_type": "execute_result"
    }
   ],
   "source": [
    "sdf.iloc[0].Findings"
   ]
  },
  {
   "cell_type": "code",
   "execution_count": 17,
   "id": "8061c9e3-8ce5-4522-acf4-9b0a123eb7ed",
   "metadata": {
    "tags": []
   },
   "outputs": [
    {
     "data": {
      "text/plain": [
       "'\\n\\n1. Lumbar Spine Fusion\\n2. Chronic Low Back Pain\\n3. Radiculopathy\\n4. Instability\\n5. Spondylolysis'"
      ]
     },
     "execution_count": 17,
     "metadata": {},
     "output_type": "execute_result"
    }
   ],
   "source": [
    "sdf.iloc[0].keywo'A 61-year-old male enrollee has requested lumbar spine fusion for treatment of his chronic low back pain and radiculopathy of the left lower extremity.  Findings:  The physician reviewer found that there is no evidence of instability, angulation, significant scoliosis, spondylolysis, spondylolisthesis, trauma, or infection in this patient’s records, all of which would be considered criteria for spinal fusion. Thus, the proposed two level spinal fusion is not considered medically necessary and is not indicated in the treatment of this patient’s condition.'rds_findings"
   ]
  },
  {
   "cell_type": "code",
   "execution_count": 18,
   "id": "f014b0be-425e-4187-b49e-17e5b59a3a41",
   "metadata": {
    "tags": []
   },
   "outputs": [],
   "source": [
    "sdf.loc[:, 'summary_findings'] = sdf.sketch.apply('Single sentence summary of [{{ Findings }}]')"
   ]
  },
  {
   "cell_type": "code",
   "execution_count": 21,
   "id": "0f42c002-98ce-4ef0-a6d0-497149b82e0e",
   "metadata": {
    "tags": []
   },
   "outputs": [
    {
     "data": {
      "text/plain": [
       "'\\n\\nThe physician reviewer found that the patient did not require residential treatment center services for her polysubstance abuse, mood disorder, and anxiety disorder due to her lack of withdrawal symptoms, controlled psychiatric conditions, and commitment to treatment.'"
      ]
     },
     "execution_count": 21,
     "metadata": {},
     "output_type": "execute_result"
    }
   ],
   "source": [
    "sdf.iloc[5].summary_findings"
   ]
  },
  {
   "cell_type": "code",
   "execution_count": 22,
   "id": "8ef94e5e-2f23-4511-a91b-f80e0fcbb122",
   "metadata": {
    "tags": []
   },
   "outputs": [
    {
     "data": {
      "text/plain": [
       "'A 20-year-old female enrollee requested residential treatment center services for treatment of her polysubstance abuse, mood disorder, and anxiety disorder.  Findings:  The physician reviewer found that the records indicate that the patient was not in withdrawal and was showing no signs of post-withdrawal symptoms. She was not medically compromised and her coexisting psychiatric conditions were controlled with medications. According to the American Psychiatric Association (APA) guidelines, the patient’s course of treatment was not complex and she could have been safely and adequately treated at a less restrictive level of care such as intensive outpatient program (IOP) with community based supportive services including a 12-step program. There was no evidence that the patient represented a risk of harm to herself or others. She was independent in all aspects. She was motivated, cooperative, attended group, and otherwise participated in her treatment plan. Her family was supportive. She expressed commitment and acceptance of her problem with substances. She did not require 24-hour monitoring and did not meet medical necessity criteria for residential substance abuse treatment. For these reasons, residential treatment center services were not medically necessary for treatment of this patient’s medical condition. '"
      ]
     },
     "execution_count": 22,
     "metadata": {},
     "output_type": "execute_result"
    }
   ],
   "source": [
    "sdf.iloc[5].Findings"
   ]
  },
  {
   "cell_type": "code",
   "execution_count": null,
   "id": "7f44b25c-9907-4812-847b-2978a4e5be91",
   "metadata": {},
   "outputs": [],
   "source": []
  }
 ],
 "metadata": {
  "kernelspec": {
   "display_name": "Python 3 (ipykernel)",
   "language": "python",
   "name": "python3"
  },
  "language_info": {
   "codemirror_mode": {
    "name": "ipython",
    "version": 3
   },
   "file_extension": ".py",
   "mimetype": "text/x-python",
   "name": "python",
   "nbconvert_exporter": "python",
   "pygments_lexer": "ipython3",
   "version": "3.11.2"
  }
 },
 "nbformat": 4,
 "nbformat_minor": 5
}
