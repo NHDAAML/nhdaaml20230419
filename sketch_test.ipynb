{
 "cells": [
  {
   "cell_type": "code",
   "execution_count": 1,
   "id": "69f3a07d-8532-4126-9270-6b6b51383e1c",
   "metadata": {
    "tags": []
   },
   "outputs": [],
   "source": [
    "from pathlib import Path\n",
    "\n",
    "import matplotlib.pyplot as plt\n",
    "import pandas as pd\n",
    "import sketch\n",
    "\n",
    "%matplotlib inline"
   ]
  },
  {
   "cell_type": "code",
   "execution_count": 2,
   "id": "2797d3cd-2c5f-47f1-9b2c-3ef9440daca9",
   "metadata": {
    "tags": []
   },
   "outputs": [],
   "source": [
    "# Source: https://www.kaggle.com/datasets/prasad22/ca-independent-medical-review\n",
    "\n",
    "datapath = Path('./data')\n",
    "datafilename = 'Independent_Medical_Review__IMR__Determinations__Trend.csv'"
   ]
  },
  {
   "cell_type": "code",
   "execution_count": 3,
   "id": "c2fc164d-b7bd-425b-b035-210a9c3c94f6",
   "metadata": {
    "tags": []
   },
   "outputs": [],
   "source": [
    "df = pd.read_csv(datapath / datafilename)"
   ]
  },
  {
   "cell_type": "code",
   "execution_count": 4,
   "id": "ca793a6a-dfa5-49f6-bafc-4dc8c259c5fb",
   "metadata": {
    "tags": []
   },
   "outputs": [
    {
     "data": {
      "text/html": [
       "<div>\n",
       "<style scoped>\n",
       "    .dataframe tbody tr th:only-of-type {\n",
       "        vertical-align: middle;\n",
       "    }\n",
       "\n",
       "    .dataframe tbody tr th {\n",
       "        vertical-align: top;\n",
       "    }\n",
       "\n",
       "    .dataframe thead th {\n",
       "        text-align: right;\n",
       "    }\n",
       "</style>\n",
       "<table border=\"1\" class=\"dataframe\">\n",
       "  <thead>\n",
       "    <tr style=\"text-align: right;\">\n",
       "      <th></th>\n",
       "      <th>Reference ID</th>\n",
       "      <th>Report Year</th>\n",
       "      <th>Diagnosis Category</th>\n",
       "      <th>Diagnosis Sub Category</th>\n",
       "      <th>Treatment Category</th>\n",
       "      <th>Treatment Sub Category</th>\n",
       "      <th>Determination</th>\n",
       "      <th>Type</th>\n",
       "      <th>Age Range</th>\n",
       "      <th>Patient Gender</th>\n",
       "      <th>Findings</th>\n",
       "    </tr>\n",
       "  </thead>\n",
       "  <tbody>\n",
       "    <tr>\n",
       "      <th>0</th>\n",
       "      <td>MN16-22639</td>\n",
       "      <td>2016</td>\n",
       "      <td>Infectious</td>\n",
       "      <td>Hepatitis</td>\n",
       "      <td>Pharmacy/Prescription Drugs</td>\n",
       "      <td>Anti-virals</td>\n",
       "      <td>Overturned Decision of Health Plan</td>\n",
       "      <td>Medical Necessity</td>\n",
       "      <td>41-50</td>\n",
       "      <td>Male</td>\n",
       "      <td>Nature of Statutory Criteria/Case Summary: An ...</td>\n",
       "    </tr>\n",
       "    <tr>\n",
       "      <th>1</th>\n",
       "      <td>MN16-22638</td>\n",
       "      <td>2016</td>\n",
       "      <td>Mental</td>\n",
       "      <td>Eating Disorder</td>\n",
       "      <td>Mental Health Treatment</td>\n",
       "      <td>Residential Treatment Center - Admission</td>\n",
       "      <td>Upheld Decision of Health Plan</td>\n",
       "      <td>Medical Necessity</td>\n",
       "      <td>21-30</td>\n",
       "      <td>Female</td>\n",
       "      <td>Nature of Statutory Criteria/Case Summary:  An...</td>\n",
       "    </tr>\n",
       "    <tr>\n",
       "      <th>2</th>\n",
       "      <td>MN16-22637</td>\n",
       "      <td>2016</td>\n",
       "      <td>Autism Spectrum</td>\n",
       "      <td>Autism-PDD-NOS</td>\n",
       "      <td>Autism Related Treatment</td>\n",
       "      <td>Speech Therapy</td>\n",
       "      <td>Upheld Decision of Health Plan</td>\n",
       "      <td>Medical Necessity</td>\n",
       "      <td>0-10</td>\n",
       "      <td>Female</td>\n",
       "      <td>Nature of Statutory Criteria/Case Summary:  Th...</td>\n",
       "    </tr>\n",
       "    <tr>\n",
       "      <th>3</th>\n",
       "      <td>EI16-22636</td>\n",
       "      <td>2016</td>\n",
       "      <td>Prevention/Good Health</td>\n",
       "      <td>NaN</td>\n",
       "      <td>Diagnostic Imaging, Screening and Testing</td>\n",
       "      <td>Mammography</td>\n",
       "      <td>Overturned Decision of Health Plan</td>\n",
       "      <td>Experimental/Investigational</td>\n",
       "      <td>65+</td>\n",
       "      <td>Female</td>\n",
       "      <td>Nature of Statutory Criteria/Case Summary: An ...</td>\n",
       "    </tr>\n",
       "    <tr>\n",
       "      <th>4</th>\n",
       "      <td>EI06-5319</td>\n",
       "      <td>2006</td>\n",
       "      <td>Cardiac/Circulatory</td>\n",
       "      <td>NaN</td>\n",
       "      <td>Cardio Vascular</td>\n",
       "      <td>NaN</td>\n",
       "      <td>Upheld Decision of Health Plan</td>\n",
       "      <td>Experimental/Investigational</td>\n",
       "      <td>51-64</td>\n",
       "      <td>Male</td>\n",
       "      <td>Physician 1: The patient is a 62-year-old male...</td>\n",
       "    </tr>\n",
       "  </tbody>\n",
       "</table>\n",
       "</div>"
      ],
      "text/plain": [
       "  Reference ID  Report Year      Diagnosis Category Diagnosis Sub Category   \n",
       "0   MN16-22639         2016              Infectious              Hepatitis  \\\n",
       "1   MN16-22638         2016                  Mental        Eating Disorder   \n",
       "2   MN16-22637         2016         Autism Spectrum         Autism-PDD-NOS   \n",
       "3   EI16-22636         2016  Prevention/Good Health                    NaN   \n",
       "4    EI06-5319         2006     Cardiac/Circulatory                    NaN   \n",
       "\n",
       "                          Treatment Category   \n",
       "0                Pharmacy/Prescription Drugs  \\\n",
       "1                    Mental Health Treatment   \n",
       "2                   Autism Related Treatment   \n",
       "3  Diagnostic Imaging, Screening and Testing   \n",
       "4                            Cardio Vascular   \n",
       "\n",
       "                     Treatment Sub Category   \n",
       "0                               Anti-virals  \\\n",
       "1  Residential Treatment Center - Admission   \n",
       "2                            Speech Therapy   \n",
       "3                               Mammography   \n",
       "4                                       NaN   \n",
       "\n",
       "                        Determination                          Type Age Range   \n",
       "0  Overturned Decision of Health Plan             Medical Necessity     41-50  \\\n",
       "1      Upheld Decision of Health Plan             Medical Necessity     21-30   \n",
       "2      Upheld Decision of Health Plan             Medical Necessity      0-10   \n",
       "3  Overturned Decision of Health Plan  Experimental/Investigational       65+   \n",
       "4      Upheld Decision of Health Plan  Experimental/Investigational     51-64   \n",
       "\n",
       "  Patient Gender                                           Findings  \n",
       "0           Male  Nature of Statutory Criteria/Case Summary: An ...  \n",
       "1         Female  Nature of Statutory Criteria/Case Summary:  An...  \n",
       "2         Female  Nature of Statutory Criteria/Case Summary:  Th...  \n",
       "3         Female  Nature of Statutory Criteria/Case Summary: An ...  \n",
       "4           Male  Physician 1: The patient is a 62-year-old male...  "
      ]
     },
     "execution_count": 4,
     "metadata": {},
     "output_type": "execute_result"
    }
   ],
   "source": [
    "df.head()"
   ]
  },
  {
   "cell_type": "code",
   "execution_count": 5,
   "id": "178cff17-1a32-4f22-bcf0-e07be044de16",
   "metadata": {
    "tags": []
   },
   "outputs": [
    {
     "name": "stdout",
     "output_type": "stream",
     "text": [
      "<class 'pandas.core.frame.DataFrame'>\n",
      "RangeIndex: 19245 entries, 0 to 19244\n",
      "Data columns (total 11 columns):\n",
      " #   Column                  Non-Null Count  Dtype \n",
      "---  ------                  --------------  ----- \n",
      " 0   Reference ID            19245 non-null  object\n",
      " 1   Report Year             19245 non-null  int64 \n",
      " 2   Diagnosis Category      19186 non-null  object\n",
      " 3   Diagnosis Sub Category  17341 non-null  object\n",
      " 4   Treatment Category      18795 non-null  object\n",
      " 5   Treatment Sub Category  17977 non-null  object\n",
      " 6   Determination           19245 non-null  object\n",
      " 7   Type                    19245 non-null  object\n",
      " 8   Age Range               18035 non-null  object\n",
      " 9   Patient Gender          18035 non-null  object\n",
      " 10  Findings                19225 non-null  object\n",
      "dtypes: int64(1), object(10)\n",
      "memory usage: 1.6+ MB\n"
     ]
    }
   ],
   "source": [
    "df.info()"
   ]
  },
  {
   "cell_type": "code",
   "execution_count": 12,
   "id": "542c24b3-3173-47f8-af0e-7f73005f5b0b",
   "metadata": {
    "tags": []
   },
   "outputs": [
    {
     "data": {
      "text/html": [
       "\n",
       "Yes, there is a difference in Determination by Patient Gender. The data shows that the majority of determinations are \"Upheld Decision of Health Plan\" for both male and female patients, but there is a higher percentage of \"Overturned Decision of Health Plan\" determinations for female patients than male patients."
      ],
      "text/plain": [
       "<IPython.core.display.HTML object>"
      ]
     },
     "metadata": {},
     "output_type": "display_data"
    }
   ],
   "source": [
    "df.sketch.ask('Is there a difference in Determination by Patient Gender')"
   ]
  },
  {
   "cell_type": "code",
   "execution_count": 20,
   "id": "fe5862c9-4ff8-47ec-863d-45b52ec9aea0",
   "metadata": {
    "tags": []
   },
   "outputs": [
    {
     "data": {
      "text/html": [
       "<div style=\"display:flex;flex-direction:row;justify-content:space-between;\">\n",
       "                <pre style=\"width: 100%; white-space: pre-wrap;\" id=\"e58df76b-9950-42ce-8a86-29bc43303660\">\n",
       "import seaborn as sns\n",
       "\n",
       "# Create a figure and axes object\n",
       "fig, ax = plt.subplots(figsize=(10,6))\n",
       "\n",
       "# Plot the data using seaborn\n",
       "sns.countplot(x='Age Range', hue='Determination', data=df, ax=ax)\n",
       "\n",
       "# Add labels and title\n",
       "ax.set_title('Determination by Age Range')\n",
       "ax.set_xlabel('Age Range')\n",
       "ax.set_ylabel('Count')\n",
       "</pre>\n",
       "                <button style=\"height: fit-content;\" onclick=\"navigator.clipboard.writeText(JSON.parse(atob(`IlxuaW1wb3J0IHNlYWJvcm4gYXMgc25zXG5cbiMgQ3JlYXRlIGEgZmlndXJlIGFuZCBheGVzIG9iamVjdFxuZmlnLCBheCA9IHBsdC5zdWJwbG90cyhmaWdzaXplPSgxMCw2KSlcblxuIyBQbG90IHRoZSBkYXRhIHVzaW5nIHNlYWJvcm5cbnNucy5jb3VudHBsb3QoeD0nQWdlIFJhbmdlJywgaHVlPSdEZXRlcm1pbmF0aW9uJywgZGF0YT1kZiwgYXg9YXgpXG5cbiMgQWRkIGxhYmVscyBhbmQgdGl0bGVcbmF4LnNldF90aXRsZSgnRGV0ZXJtaW5hdGlvbiBieSBBZ2UgUmFuZ2UnKVxuYXguc2V0X3hsYWJlbCgnQWdlIFJhbmdlJylcbmF4LnNldF95bGFiZWwoJ0NvdW50JylcbiI=`)))\">Copy</button>\n",
       "                </div>"
      ],
      "text/plain": [
       "<IPython.core.display.HTML object>"
      ]
     },
     "metadata": {},
     "output_type": "display_data"
    }
   ],
   "source": [
    "df.sketch.howto('Plot Determination by age using seaborn')\n",
    "        "
   ]
  },
  {
   "cell_type": "code",
   "execution_count": 21,
   "id": "a2084466-a24f-4614-b243-8c40e9c9ff8d",
   "metadata": {
    "tags": []
   },
   "outputs": [
    {
     "data": {
      "text/plain": [
       "Text(0, 0.5, 'Count')"
      ]
     },
     "execution_count": 21,
     "metadata": {},
     "output_type": "execute_result"
    },
    {
     "data": {
      "image/png": "[encoded data removed]",
      "text/plain": [
       "<Figure size 1000x600 with 1 Axes>"
      ]
     },
     "metadata": {},
     "output_type": "display_data"
    }
   ],
   "source": [
    "# Create a figure and axes object\n",
    "fig, ax = plt.subplots(figsize=(10,6))\n",
    "\n",
    "# Plot the data using seaborn\n",
    "sns.countplot(x='Age Range', hue='Determination', data=df, ax=ax)\n",
    "\n",
    "# Add labels and title\n",
    "ax.set_title('Determination by Age Range')\n",
    "ax.set_xlabel('Age Range')\n",
    "ax.set_ylabel('Count')"
   ]
  },
  {
   "cell_type": "code",
   "execution_count": 8,
   "id": "68b41a4c-60d3-4690-b176-c20f6e1c27ee",
   "metadata": {
    "tags": []
   },
   "outputs": [
    {
     "data": {
      "image/png": "[encoded data removed]",
      "text/plain": [
       "<Figure size 1000x600 with 1 Axes>"
      ]
     },
     "metadata": {},
     "output_type": "display_data"
    }
   ],
   "source": [
    "# Plot Determination by age\n",
    "import matplotlib.pyplot as plt\n",
    "\n",
    "# Create a bar chart of Determination by Age Range\n",
    "df.groupby('Age Range')['Determination'].value_counts().unstack().plot(kind='bar', figsize=(10,6))\n",
    "plt.title('Determination by Age Range')\n",
    "plt.xlabel('Age Range')\n",
    "plt.ylabel('Count')\n",
    "plt.show()"
   ]
  },
  {
   "cell_type": "code",
   "execution_count": 11,
   "id": "793e4aad-4d26-4196-bbf1-cc3415bf3271",
   "metadata": {
    "tags": []
   },
   "outputs": [
    {
     "data": {
      "text/html": [
       "\n",
       "The most interesting thing in this dataset is the variety of diagnosis and treatment categories, as well as the wide range of age ranges and patient genders represented. Additionally, the findings column provides a detailed description of each case, which could be interesting to explore further."
      ],
      "text/plain": [
       "<IPython.core.display.HTML object>"
      ]
     },
     "metadata": {},
     "output_type": "display_data"
    }
   ],
   "source": [
    "df.sketch.ask('whats the most interesting thing in this dataset')"
   ]
  },
  {
   "cell_type": "code",
   "execution_count": 22,
   "id": "8a20e858-b7f3-49d1-851b-61c692e94b51",
   "metadata": {
    "tags": []
   },
   "outputs": [
    {
     "data": {
      "text/html": [
       "\n",
       "index: This column is an integer data type and contains the row index of the dataframe.\n",
       "Reference ID: This column is an object data type and contains a unique identifier for each row.\n",
       "Report Year: This column is an integer data type and contains the year in which the report was made.\n",
       "Diagnosis Category: This column is an object data type and contains the category of diagnosis for each row.\n",
       "Diagnosis Sub Category: This column is an object data type and contains the sub-category of diagnosis for each row.\n",
       "Treatment Category: This column is an object data type and contains the category of treatment for each row.\n",
       "Treatment Sub Category: This column is an object data type and contains the sub-category of treatment for each row.\n",
       "Determination: This column is an object data type and contains the determination of the health plan for each row.\n",
       "Type: This column is an object data type and contains the type of determination for each row.\n",
       "Age Range: This column is an object data type and contains the age range of the patient for each row.\n",
       "Patient Gender: This column is an object data type and contains the gender of the patient for each row.\n",
       "Findings: This column is an object data type and contains a summary of the findings for each row.\n"
      ],
      "text/plain": [
       "<IPython.core.display.HTML object>"
      ]
     },
     "metadata": {},
     "output_type": "display_data"
    }
   ],
   "source": [
    "df.sketch.ask('provide a human readable description of each column')"
   ]
  },
  {
   "cell_type": "code",
   "execution_count": 23,
   "id": "44bb3bdd-2245-4dcc-892a-4f49453ac390",
   "metadata": {
    "tags": []
   },
   "outputs": [
    {
     "data": {
      "text/html": [
       "\n",
       "The most commonly rejected diagnosis is Mental Health Treatment, with the Determination column showing that the Decision of the Health Plan was Upheld in the majority of cases."
      ],
      "text/plain": [
       "<IPython.core.display.HTML object>"
      ]
     },
     "metadata": {},
     "output_type": "display_data"
    }
   ],
   "source": [
    "df.sketch.ask('what diagnosis is most often rejected')"
   ]
  },
  {
   "cell_type": "code",
   "execution_count": 25,
   "id": "edd90754-bf0e-4492-9b20-55c2184cf79a",
   "metadata": {
    "tags": []
   },
   "outputs": [
    {
     "data": {
      "text/plain": [
       "Diagnosis Category                     Determination                     \n",
       "Orthopedic/ Musculoskeletal            Upheld Decision of Health Plan        2479\n",
       "Mental                                 Upheld Decision of Health Plan        1346\n",
       "                                       Overturned Decision of Health Plan    1166\n",
       "Orthopedic/ Musculoskeletal            Overturned Decision of Health Plan     990\n",
       "Cancer                                 Upheld Decision of Health Plan         912\n",
       "Central Nervous System/ Neuromuscular  Upheld Decision of Health Plan         867\n",
       "Cancer                                 Overturned Decision of Health Plan     769\n",
       "Central Nervous System/ Neuromuscular  Overturned Decision of Health Plan     753\n",
       "Infectious                             Overturned Decision of Health Plan     702\n",
       "Cardiac/Circulatory                    Upheld Decision of Health Plan         631\n",
       "Digestive System/ Gastrointestinal     Upheld Decision of Health Plan         503\n",
       "Pediatrics                             Overturned Decision of Health Plan     481\n",
       "OB-Gyn/ Pregnancy                      Upheld Decision of Health Plan         447\n",
       "Morbid Obesity                         Overturned Decision of Health Plan     431\n",
       "Autism Spectrum                        Overturned Decision of Health Plan     404\n",
       "Endocrine/ Metabolic                   Upheld Decision of Health Plan         404\n",
       "Morbid Obesity                         Upheld Decision of Health Plan         393\n",
       "Endocrine/ Metabolic                   Overturned Decision of Health Plan     375\n",
       "Infectious                             Upheld Decision of Health Plan         357\n",
       "OB-Gyn/ Pregnancy                      Overturned Decision of Health Plan     354\n",
       "Cardiac/Circulatory                    Overturned Decision of Health Plan     334\n",
       "Respiratory System                     Upheld Decision of Health Plan         301\n",
       "Skin                                   Upheld Decision of Health Plan         269\n",
       "Digestive System/ Gastrointestinal     Overturned Decision of Health Plan     255\n",
       "Ears, Nose, Throat                     Upheld Decision of Health Plan         233\n",
       "Pediatrics                             Upheld Decision of Health Plan         228\n",
       "Genitourinary/ Kidney                  Upheld Decision of Health Plan         216\n",
       "Immunologic                            Upheld Decision of Health Plan         216\n",
       "Respiratory System                     Overturned Decision of Health Plan     212\n",
       "Skin                                   Overturned Decision of Health Plan     212\n",
       "Prevention/Good Health                 Overturned Decision of Health Plan     169\n",
       "Ears, Nose, Throat                     Overturned Decision of Health Plan     143\n",
       "Foot                                   Upheld Decision of Health Plan         142\n",
       "Vision                                 Upheld Decision of Health Plan         138\n",
       "Genitourinary/ Kidney                  Overturned Decision of Health Plan     134\n",
       "Prevention/Good Health                 Upheld Decision of Health Plan         131\n",
       "Immunologic                            Overturned Decision of Health Plan     127\n",
       "Autism Spectrum                        Upheld Decision of Health Plan         120\n",
       "Chronic Pain                           Upheld Decision of Health Plan          95\n",
       "Vision                                 Overturned Decision of Health Plan      86\n",
       "Trauma/Injuries                        Upheld Decision of Health Plan          83\n",
       "Foot                                   Overturned Decision of Health Plan      72\n",
       "Post Surgical Complication             Upheld Decision of Health Plan          66\n",
       "Blood Related                          Upheld Decision of Health Plan          57\n",
       "Genetic                                Overturned Decision of Health Plan      55\n",
       "Trauma/Injuries                        Overturned Decision of Health Plan      44\n",
       "Blood Related                          Overturned Decision of Health Plan      44\n",
       "Dental                                 Overturned Decision of Health Plan      44\n",
       "Genetic                                Upheld Decision of Health Plan          44\n",
       "Not Applicable                         Upheld Decision of Health Plan          39\n",
       "Dental                                 Upheld Decision of Health Plan          32\n",
       "Chronic Pain                           Overturned Decision of Health Plan      27\n",
       "Not Applicable                         Overturned Decision of Health Plan      24\n",
       "Post Surgical Complication             Overturned Decision of Health Plan      19\n",
       "Organ Failure                          Upheld Decision of Health Plan           5\n",
       "                                       Overturned Decision of Health Plan       3\n",
       "Alcohol and Drug Addiction             Upheld Decision of Health Plan           2\n",
       "                                       Overturned Decision of Health Plan       1\n",
       "Name: Reference ID, dtype: int64"
      ]
     },
     "execution_count": 25,
     "metadata": {},
     "output_type": "execute_result"
    }
   ],
   "source": [
    "df.groupby(['Diagnosis Category', 'Determination'])['Reference ID'].nunique().sort_values(ascending=False)"
   ]
  },
  {
   "cell_type": "code",
   "execution_count": 27,
   "id": "13f1c607-706a-442f-8bbd-f954ec22a1f8",
   "metadata": {
    "tags": []
   },
   "outputs": [
    {
     "data": {
      "text/html": [
       "\n",
       "This is subjective and cannot be answered with the given data."
      ],
      "text/plain": [
       "<IPython.core.display.HTML object>"
      ]
     },
     "metadata": {},
     "output_type": "display_data"
    }
   ],
   "source": [
    "df.sketch.ask('whats the saddest finding')"
   ]
  },
  {
   "cell_type": "code",
   "execution_count": null,
   "id": "960cfb59-7a5a-41f9-8530-dd14d4d13731",
   "metadata": {},
   "outputs": [],
   "source": []
  },
  {
   "cell_type": "code",
   "execution_count": null,
   "id": "e6793aec-c703-4e35-89d9-b2fee6881c07",
   "metadata": {},
   "outputs": [],
   "source": []
  }
 ],
 "metadata": {
  "kernelspec": {
   "display_name": "Python 3 (ipykernel)",
   "language": "python",
   "name": "python3"
  },
  "language_info": {
   "codemirror_mode": {
    "name": "ipython",
    "version": 3
   },
   "file_extension": ".py",
   "mimetype": "text/x-python",
   "name": "python",
   "nbconvert_exporter": "python",
   "pygments_lexer": "ipython3",
   "version": "3.11.2"
  }
 },
 "nbformat": 4,
 "nbformat_minor": 5
}
